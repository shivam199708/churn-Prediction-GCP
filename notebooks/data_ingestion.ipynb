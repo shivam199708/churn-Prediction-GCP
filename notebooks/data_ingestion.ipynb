{
 "cells": [
  {
   "cell_type": "code",
   "execution_count": 1,
   "id": "1c628157-b089-4b20-86d6-7d1ad1fe55e4",
   "metadata": {
    "tags": []
   },
   "outputs": [
    {
     "name": "stdout",
     "output_type": "stream",
     "text": [
      "Shape: (2556, 16)\n",
      "   visitorId  visitNumber     visitId  visitStartTime      date  \\\n",
      "0       <NA>            1  1501591568      1501591568  20170801   \n",
      "1       <NA>            2  1501589647      1501589647  20170801   \n",
      "2       <NA>            1  1501616621      1501616621  20170801   \n",
      "3       <NA>            1  1501601200      1501601200  20170801   \n",
      "4       <NA>            1  1501615525      1501615525  20170801   \n",
      "\n",
      "                                              totals  \\\n",
      "0  {'visits': 1, 'hits': 1, 'pageviews': 1, 'time...   \n",
      "1  {'visits': 1, 'hits': 1, 'pageviews': 1, 'time...   \n",
      "2  {'visits': 1, 'hits': 1, 'pageviews': 1, 'time...   \n",
      "3  {'visits': 1, 'hits': 1, 'pageviews': 1, 'time...   \n",
      "4  {'visits': 1, 'hits': 1, 'pageviews': 1, 'time...   \n",
      "\n",
      "                                       trafficSource  \\\n",
      "0  {'referralPath': None, 'campaign': '(not set)'...   \n",
      "1  {'referralPath': '/analytics/web/', 'campaign'...   \n",
      "2  {'referralPath': '/analytics/web/', 'campaign'...   \n",
      "3  {'referralPath': '/analytics/web/', 'campaign'...   \n",
      "4  {'referralPath': '/analytics/web/', 'campaign'...   \n",
      "\n",
      "                                              device  \\\n",
      "0  {'browser': 'Chrome', 'browserVersion': 'not a...   \n",
      "1  {'browser': 'Chrome', 'browserVersion': 'not a...   \n",
      "2  {'browser': 'Chrome', 'browserVersion': 'not a...   \n",
      "3  {'browser': 'Firefox', 'browserVersion': 'not ...   \n",
      "4  {'browser': 'Chrome', 'browserVersion': 'not a...   \n",
      "\n",
      "                                          geoNetwork  \\\n",
      "0  {'continent': 'Europe', 'subContinent': 'South...   \n",
      "1  {'continent': 'Asia', 'subContinent': 'Souther...   \n",
      "2  {'continent': 'Europe', 'subContinent': 'North...   \n",
      "3  {'continent': 'Americas', 'subContinent': 'Nor...   \n",
      "4  {'continent': 'Americas', 'subContinent': 'Nor...   \n",
      "\n",
      "                           customDimensions  \\\n",
      "0                                        []   \n",
      "1           [{'index': 4, 'value': 'APAC'}]   \n",
      "2           [{'index': 4, 'value': 'EMEA'}]   \n",
      "3  [{'index': 4, 'value': 'North America'}]   \n",
      "4  [{'index': 4, 'value': 'North America'}]   \n",
      "\n",
      "                                                hits        fullVisitorId  \\\n",
      "0  [{'hitNumber': 1, 'time': 0, 'hour': 5, 'minut...  3418334011779872055   \n",
      "1  [{'hitNumber': 1, 'time': 0, 'hour': 5, 'minut...  2474397855041322408   \n",
      "2  [{'hitNumber': 1, 'time': 0, 'hour': 12, 'minu...  5870462820713110108   \n",
      "3  [{'hitNumber': 1, 'time': 0, 'hour': 8, 'minut...  9397809171349480379   \n",
      "4  [{'hitNumber': 1, 'time': 0, 'hour': 12, 'minu...  6089902943184578335   \n",
      "\n",
      "  userId clientId channelGrouping  socialEngagementType  \n",
      "0   None     None  Organic Search  Not Socially Engaged  \n",
      "1   None     None        Referral  Not Socially Engaged  \n",
      "2   None     None        Referral  Not Socially Engaged  \n",
      "3   None     None        Referral  Not Socially Engaged  \n",
      "4   None     None        Referral  Not Socially Engaged  \n"
     ]
    }
   ],
   "source": [
    "from google.cloud import bigquery\n",
    "import pandas as pd\n",
    "\n",
    "# Initialize client\n",
    "client = bigquery.Client()\n",
    "\n",
    "query = \"\"\"\n",
    "SELECT *\n",
    "FROM `bigquery-public-data.google_analytics_sample.ga_sessions_20170801`\n",
    "\"\"\"\n",
    "\n",
    "df = client.query(query).to_dataframe()\n",
    "print(\"Shape:\", df.shape)\n",
    "print(df.head(5))\n"
   ]
  },
  {
   "cell_type": "code",
   "execution_count": 14,
   "id": "220a2806-4ce5-4d03-ac5a-713b40137bf0",
   "metadata": {
    "tags": []
   },
   "outputs": [
    {
     "name": "stdout",
     "output_type": "stream",
     "text": [
      "✅ Directory ready: ../data/raw\n"
     ]
    }
   ],
   "source": [
    "import os\n",
    "\n",
    "raw_dir = \"../data/raw\"\n",
    "os.makedirs(raw_dir, exist_ok=True)\n",
    "\n",
    "print(f\"✅ Directory ready: {raw_dir}\")\n"
   ]
  },
  {
   "cell_type": "code",
   "execution_count": 16,
   "id": "6f10fe23-9c5d-4c48-a4e8-50ef1f2dc6f6",
   "metadata": {
    "tags": []
   },
   "outputs": [
    {
     "name": "stdout",
     "output_type": "stream",
     "text": [
      " Raw data saved at: ../data/raw/ga_sessions_20170801.csv\n"
     ]
    }
   ],
   "source": [
    "# Define full file path\n",
    "raw_path = os.path.join(raw_dir, \"ga_sessions_20170801.csv\")\n",
    "\n",
    "# Save DataFrame\n",
    "df.to_csv(raw_path, index=False)\n",
    "\n",
    "print(f\" Raw data saved at: {raw_path}\")"
   ]
  },
  {
   "cell_type": "code",
   "execution_count": null,
   "id": "15aa29e8-971f-49c8-b4f5-d6e1128fd0fc",
   "metadata": {},
   "outputs": [],
   "source": []
  }
 ],
 "metadata": {
  "environment": {
   "kernel": "conda-base-py",
   "name": "workbench-notebooks.m131",
   "type": "gcloud",
   "uri": "us-docker.pkg.dev/deeplearning-platform-release/gcr.io/workbench-notebooks:m131"
  },
  "kernelspec": {
   "display_name": "Python 3 (ipykernel) (Local)",
   "language": "python",
   "name": "conda-base-py"
  },
  "language_info": {
   "codemirror_mode": {
    "name": "ipython",
    "version": 3
   },
   "file_extension": ".py",
   "mimetype": "text/x-python",
   "name": "python",
   "nbconvert_exporter": "python",
   "pygments_lexer": "ipython3",
   "version": "3.10.18"
  }
 },
 "nbformat": 4,
 "nbformat_minor": 5
}
